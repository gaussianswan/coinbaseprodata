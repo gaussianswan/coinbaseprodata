{
 "cells": [
  {
   "cell_type": "code",
   "execution_count": 1,
   "metadata": {},
   "outputs": [],
   "source": [
    "from load_keys import load_aws_keys, load_db_keys\n",
    "from s3helper import S3\n",
    "from postgresconnector import PostgresConnection\n",
    "from historicaldatahelper import CBProHistDataRetriever\n",
    "\n",
    "import pandas as pd\n",
    "import os \n",
    "import datetime\n",
    "\n",
    "awskeys = load_aws_keys() \n",
    "dbkeys = load_db_keys()"
   ]
  },
  {
   "cell_type": "code",
   "execution_count": 15,
   "metadata": {},
   "outputs": [],
   "source": [
    "connection = PostgresConnection(*dbkeys)\n",
    "\n",
    "query = \"SELECT product, MAX(time) last_updated FROM coinbasepricingdata GROUP BY product\"\n",
    "last_updated = connection.run_query_to_df(query)"
   ]
  },
  {
   "cell_type": "code",
   "execution_count": 12,
   "metadata": {},
   "outputs": [],
   "source": [
    "data_helper = CBProHistDataRetriever()\n",
    "dataframes = {}\n",
    "\n",
    "for row in last_updated.itertuples(): \n",
    "    product = row.product\n",
    "    start_time = row.last_updated\n",
    "    end = pd.Timestamp(datetime.datetime.now())\n",
    "\n",
    "    df = data_helper.get_historical_prices(product=product, start_date=start_time, end_date=end, granularity=60)\n",
    "    df = df.iloc[1:]\n",
    "    df['exchange'] = 'coinbase'\n",
    "    df['product'] = product\n",
    "    dataframes[product] = df\n"
   ]
  },
  {
   "cell_type": "code",
   "execution_count": 14,
   "metadata": {},
   "outputs": [],
   "source": [
    "# Then we can go through and update the table with this data\n",
    "for dataframe in dataframes.values(): \n",
    "\n",
    "    connection.update_table_with_df(dataframe, 'coinbasepricingdata', if_exists='append', index = False)"
   ]
  },
  {
   "cell_type": "code",
   "execution_count": null,
   "metadata": {},
   "outputs": [],
   "source": []
  }
 ],
 "metadata": {
  "kernelspec": {
   "display_name": "Python 3.9.12 ('coinbasepro')",
   "language": "python",
   "name": "python3"
  },
  "language_info": {
   "codemirror_mode": {
    "name": "ipython",
    "version": 3
   },
   "file_extension": ".py",
   "mimetype": "text/x-python",
   "name": "python",
   "nbconvert_exporter": "python",
   "pygments_lexer": "ipython3",
   "version": "3.9.12"
  },
  "orig_nbformat": 4,
  "vscode": {
   "interpreter": {
    "hash": "7c641d41f17ff5cc65f5c405b0db55409976dbf07b52e3c13467c01a57ff9150"
   }
  }
 },
 "nbformat": 4,
 "nbformat_minor": 2
}
