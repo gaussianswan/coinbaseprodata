{
 "cells": [
  {
   "cell_type": "code",
   "execution_count": 32,
   "metadata": {},
   "outputs": [],
   "source": [
    "import time \n",
    "import datetime\n",
    "import pandas as pd\n",
    "\n",
    "from datafuncs import process_cbpro_hist_data\n",
    "from cbpro import PublicClient\n",
    "from pandas.tseries.offsets import DateOffset"
   ]
  },
  {
   "cell_type": "code",
   "execution_count": 33,
   "metadata": {},
   "outputs": [],
   "source": [
    "class CBProHistDataRetriever: \n",
    "\n",
    "    def __init__(self): \n",
    "        self.client = PublicClient()\n",
    "        self.candles_per_request = 300\n",
    "        \n",
    "    def get_historical_prices(self, product: str, start_date: pd.Timestamp, end_date: pd.Timestamp, granularity: int): \n",
    "        offset = DateOffset(seconds = self.candles_per_request * granularity)\n",
    "        date_range = pd.date_range(start=start_date, end=end_date, freq=offset) \n",
    "        date_range_iso = []\n",
    "        for date in date_range: \n",
    "            date_range_iso.append(date.isoformat())\n",
    "\n",
    "        historical_data = []\n",
    "        for i in range(len(date_range_iso)-1): \n",
    "            start_date = date_range_iso[i]\n",
    "            end_date = date_range_iso[i+1]\n",
    "            data = self.client.get_product_historic_rates(\n",
    "                product_id=product, \n",
    "                start=start_date, \n",
    "                end=end_date, \n",
    "                granularity=granularity\n",
    "            )\n",
    "\n",
    "            data.reverse() # The data comes in the wrong order.\n",
    "\n",
    "            historical_data.extend(data)\n",
    "            time.sleep(0.1)\n",
    "\n",
    "        historical_data_df = process_cbpro_hist_data(historical_data)\n",
    "        historical_data_df.drop_duplicates(inplace = True)\n",
    "        return historical_data_df\n",
    "\n",
    "\n"
   ]
  },
  {
   "cell_type": "code",
   "execution_count": 34,
   "metadata": {},
   "outputs": [],
   "source": [
    "data_helper = CBProHistDataRetriever()"
   ]
  },
  {
   "cell_type": "code",
   "execution_count": 37,
   "metadata": {},
   "outputs": [],
   "source": [
    "product = 'BTC-USD'\n",
    "granularity = 60\n",
    "end = pd.Timestamp(datetime.datetime.now())\n",
    "start_date = end - pd.Timedelta(days = 10)\n",
    "candles = data_helper.get_historical_prices(\n",
    "    product=product, start_date=start_date, end_date=end, granularity=granularity\n",
    ")"
   ]
  },
  {
   "cell_type": "code",
   "execution_count": 42,
   "metadata": {},
   "outputs": [
    {
     "data": {
      "text/plain": [
       "Timestamp('2019-08-01 11:59:08.498752')"
      ]
     },
     "execution_count": 42,
     "metadata": {},
     "output_type": "execute_result"
    }
   ],
   "source": [
    "end - pd.Timedelta(weeks = 52 * 3)"
   ]
  },
  {
   "cell_type": "code",
   "execution_count": null,
   "metadata": {},
   "outputs": [],
   "source": []
  }
 ],
 "metadata": {
  "kernelspec": {
   "display_name": "Python 3.10.4 ('coinbasepro')",
   "language": "python",
   "name": "python3"
  },
  "language_info": {
   "codemirror_mode": {
    "name": "ipython",
    "version": 3
   },
   "file_extension": ".py",
   "mimetype": "text/x-python",
   "name": "python",
   "nbconvert_exporter": "python",
   "pygments_lexer": "ipython3",
   "version": "3.9.12"
  },
  "orig_nbformat": 4,
  "vscode": {
   "interpreter": {
    "hash": "7c641d41f17ff5cc65f5c405b0db55409976dbf07b52e3c13467c01a57ff9150"
   }
  }
 },
 "nbformat": 4,
 "nbformat_minor": 2
}
