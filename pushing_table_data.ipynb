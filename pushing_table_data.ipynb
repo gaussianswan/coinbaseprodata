{
 "cells": [
  {
   "cell_type": "code",
   "execution_count": 1,
   "metadata": {},
   "outputs": [],
   "source": [
    "from load_keys import load_aws_keys, load_db_keys\n",
    "from s3helper import S3\n",
    "from postgresconnector import PostgresConnection\n",
    "\n",
    "import pandas as pd\n",
    "import os \n",
    "awskeys = load_aws_keys() \n",
    "dbkeys = load_db_keys()"
   ]
  },
  {
   "cell_type": "code",
   "execution_count": 4,
   "metadata": {},
   "outputs": [],
   "source": [
    "\n",
    "s3 = S3(*awskeys, region = 'us-east-1')\n",
    "connection = PostgresConnection(*dbkeys)"
   ]
  },
  {
   "cell_type": "code",
   "execution_count": 5,
   "metadata": {},
   "outputs": [],
   "source": [
    "# Downloading the data\n",
    "product = 'LTC-USD'\n",
    "parquet_filename = f'{product}_minute_data.parquet'\n",
    "s3.download(bucket_name='coinbaseminutepricingdata', from_filename=parquet_filename, to_filename=parquet_filename)"
   ]
  },
  {
   "cell_type": "code",
   "execution_count": 6,
   "metadata": {},
   "outputs": [],
   "source": [
    "df = pd.read_parquet(parquet_filename)\n",
    "df['exchange'] = 'coinbase'\n",
    "df['product'] = product\n",
    "\n",
    "connection.update_table_with_df(df = df, table_name = 'coinbasepricingdata', if_exists='append', index = False)"
   ]
  },
  {
   "cell_type": "code",
   "execution_count": 10,
   "metadata": {},
   "outputs": [],
   "source": [
    "# # Removing all the files\n",
    "# products = ['LTC-USD', 'BTC-USD', 'ETH-USD']\n",
    "# for product in products: \n",
    "#     parquet_filename = f'{product}_minute_data.parquet'\n",
    "#     os.remove(parquet_filename)\n",
    "\n"
   ]
  },
  {
   "cell_type": "code",
   "execution_count": 11,
   "metadata": {},
   "outputs": [],
   "source": [
    "for i in range(0): \n",
    "    print(i)"
   ]
  },
  {
   "cell_type": "code",
   "execution_count": null,
   "metadata": {},
   "outputs": [],
   "source": []
  }
 ],
 "metadata": {
  "kernelspec": {
   "display_name": "Python 3.9.12 ('coinbasepro')",
   "language": "python",
   "name": "python3"
  },
  "language_info": {
   "codemirror_mode": {
    "name": "ipython",
    "version": 3
   },
   "file_extension": ".py",
   "mimetype": "text/x-python",
   "name": "python",
   "nbconvert_exporter": "python",
   "pygments_lexer": "ipython3",
   "version": "3.9.12"
  },
  "orig_nbformat": 4,
  "vscode": {
   "interpreter": {
    "hash": "7c641d41f17ff5cc65f5c405b0db55409976dbf07b52e3c13467c01a57ff9150"
   }
  }
 },
 "nbformat": 4,
 "nbformat_minor": 2
}
