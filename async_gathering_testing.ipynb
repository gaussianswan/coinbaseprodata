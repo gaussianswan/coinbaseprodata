{
 "cells": [
  {
   "cell_type": "code",
   "execution_count": 1,
   "metadata": {},
   "outputs": [],
   "source": [
    "import aiohttp\n",
    "import asyncio\n",
    "import pandas as pd\n",
    "import nest_asyncio\n",
    "import datetime\n",
    "\n",
    "from datafuncs import process_cbpro_hist_data\n",
    "from functools import reduce \n",
    "from postgresconnector import PostgresConnection\n",
    "from load_keys import load_db_keys\n",
    "\n",
    "dbkeys = load_db_keys()\n",
    "connection = PostgresConnection(*dbkeys)\n",
    "nest_asyncio.apply()\n",
    "\n",
    "from aiolimiter import AsyncLimiter\n",
    "\n",
    "num_candles = 300\n",
    "granularity = 60\n",
    "product = 'ADA-USD'\n",
    "start = pd.Timestamp(year = 2021, month = 1, day = 1)\n",
    "end = pd.Timestamp(datetime.datetime.now())\n",
    "date_range = list(pd.date_range(start, end, freq=pd.tseries.offsets.DateOffset(seconds = num_candles * granularity)))\n",
    "\n",
    "if end not in date_range: \n",
    "    date_range.append(end)\n",
    "\n",
    "date_isoformat = []\n",
    "for date in date_range:\n",
    "    date_isoformat.append(date.isoformat())\n",
    "\n",
    "urls = []\n",
    "for i in range(len(date_isoformat)-1):\n",
    "    url = f'https://api.exchange.coinbase.com/products/{product}/candles?start={date_isoformat[i]}&end={date_isoformat[i+1]}&granularity={granularity}'\n",
    "    urls.append(url)\n",
    "\n",
    "async def dataworker(limiter: AsyncLimiter, request_url: str):\n",
    "    async with limiter:\n",
    "        async with aiohttp.ClientSession() as session:\n",
    "            async with session.request(method = 'GET', url = request_url) as response:\n",
    "                data = await response.json()\n",
    "    return data\n",
    "\n",
    "async def main(urls):\n",
    "    limiter = AsyncLimiter(10, 1)\n",
    "\n",
    "    tasks = []\n",
    "    for url in urls:\n",
    "        tasks.append(dataworker(limiter, url))\n",
    "\n",
    "    results = await asyncio.gather(*tasks)\n",
    "    return results\n",
    "\n",
    "asyncio.set_event_loop_policy(asyncio.WindowsSelectorEventLoopPolicy())\n",
    "loop = asyncio.get_event_loop()\n",
    "data = loop.run_until_complete(main(urls=urls))"
   ]
  },
  {
   "cell_type": "code",
   "execution_count": 4,
   "metadata": {},
   "outputs": [],
   "source": [
    "final_df = pd.DataFrame()\n",
    "dataframes = []\n",
    "for d in data: \n",
    "    if len(d) != 0: \n",
    "        df = process_cbpro_hist_data(d)\n",
    "        if not df.empty: \n",
    "            dataframes.append(df)\n",
    "\n",
    "all_historical_data = reduce(lambda x, y: pd.concat([x, y]), dataframes)\n",
    "all_historical_data.drop_duplicates(inplace=True)\n",
    "all_historical_data.sort_values(by = 'time', inplace=True)\n",
    "all_historical_data.reset_index(drop = True, inplace = True)\n",
    "all_historical_data['exchange'] = 'coinbase'\n",
    "all_historical_data['product'] = product\n",
    "\n",
    "connection.update_table_with_df(df = all_historical_data, table_name='coinbasepricingdata', if_exists='append', index = False)"
   ]
  },
  {
   "cell_type": "code",
   "execution_count": null,
   "metadata": {},
   "outputs": [],
   "source": []
  }
 ],
 "metadata": {
  "kernelspec": {
   "display_name": "Python 3.9.12 ('coinbasepro')",
   "language": "python",
   "name": "python3"
  },
  "language_info": {
   "codemirror_mode": {
    "name": "ipython",
    "version": 3
   },
   "file_extension": ".py",
   "mimetype": "text/x-python",
   "name": "python",
   "nbconvert_exporter": "python",
   "pygments_lexer": "ipython3",
   "version": "3.9.12"
  },
  "orig_nbformat": 4,
  "vscode": {
   "interpreter": {
    "hash": "7c641d41f17ff5cc65f5c405b0db55409976dbf07b52e3c13467c01a57ff9150"
   }
  }
 },
 "nbformat": 4,
 "nbformat_minor": 2
}
