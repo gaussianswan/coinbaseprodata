{
 "cells": [
  {
   "cell_type": "code",
   "execution_count": 1,
   "metadata": {},
   "outputs": [
    {
     "ename": "RuntimeError",
     "evalue": "Cannot close a running event loop",
     "output_type": "error",
     "traceback": [
      "\u001b[1;31m---------------------------------------------------------------------------\u001b[0m",
      "\u001b[1;31mRuntimeError\u001b[0m                              Traceback (most recent call last)",
      "\u001b[1;32mc:\\Users\\srerr\\Documents\\Projects\\PersonalProjects\\coinbasepro\\coinbaseprodata\\async_gathering_testing.ipynb Cell 1\u001b[0m in \u001b[0;36m<cell line: 48>\u001b[1;34m()\u001b[0m\n\u001b[0;32m     <a href='vscode-notebook-cell:/c%3A/Users/srerr/Documents/Projects/PersonalProjects/coinbasepro/coinbaseprodata/async_gathering_testing.ipynb#ch0000004?line=45'>46</a>\u001b[0m loop \u001b[39m=\u001b[39m asyncio\u001b[39m.\u001b[39mget_event_loop()\n\u001b[0;32m     <a href='vscode-notebook-cell:/c%3A/Users/srerr/Documents/Projects/PersonalProjects/coinbasepro/coinbaseprodata/async_gathering_testing.ipynb#ch0000004?line=46'>47</a>\u001b[0m data \u001b[39m=\u001b[39m loop\u001b[39m.\u001b[39mrun_until_complete(main(urls\u001b[39m=\u001b[39murls))\n\u001b[1;32m---> <a href='vscode-notebook-cell:/c%3A/Users/srerr/Documents/Projects/PersonalProjects/coinbasepro/coinbaseprodata/async_gathering_testing.ipynb#ch0000004?line=47'>48</a>\u001b[0m loop\u001b[39m.\u001b[39;49mclose()\n",
      "File \u001b[1;32mc:\\Users\\srerr\\.conda\\envs\\coinbasepro\\lib\\asyncio\\selector_events.py:84\u001b[0m, in \u001b[0;36mBaseSelectorEventLoop.close\u001b[1;34m(self)\u001b[0m\n\u001b[0;32m     82\u001b[0m \u001b[39mdef\u001b[39;00m \u001b[39mclose\u001b[39m(\u001b[39mself\u001b[39m):\n\u001b[0;32m     83\u001b[0m     \u001b[39mif\u001b[39;00m \u001b[39mself\u001b[39m\u001b[39m.\u001b[39mis_running():\n\u001b[1;32m---> 84\u001b[0m         \u001b[39mraise\u001b[39;00m \u001b[39mRuntimeError\u001b[39;00m(\u001b[39m\"\u001b[39m\u001b[39mCannot close a running event loop\u001b[39m\u001b[39m\"\u001b[39m)\n\u001b[0;32m     85\u001b[0m     \u001b[39mif\u001b[39;00m \u001b[39mself\u001b[39m\u001b[39m.\u001b[39mis_closed():\n\u001b[0;32m     86\u001b[0m         \u001b[39mreturn\u001b[39;00m\n",
      "\u001b[1;31mRuntimeError\u001b[0m: Cannot close a running event loop"
     ]
    }
   ],
   "source": [
    "import aiohttp\n",
    "import asyncio\n",
    "import pandas as pd\n",
    "import nest_asyncio\n",
    "\n",
    "from datafuncs import process_cbpro_hist_data\n",
    "from functools import reduce \n",
    "from postgresconnector import PostgresConnection\n",
    "from load_keys import load_db_keys\n",
    "\n",
    "dbkeys = load_db_keys()\n",
    "connection = PostgresConnection(*dbkeys)\n",
    "nest_asyncio.apply()\n",
    "\n",
    "num_candles = 300\n",
    "granularity = 60\n",
    "product = 'AVAX-USD'\n",
    "start = pd.Timestamp(year = 2021, month = 5, day = 1)\n",
    "end = start + pd.Timedelta(weeks = 52)\n",
    "date_range = list(pd.date_range(start, end, freq=pd.tseries.offsets.DateOffset(seconds = num_candles * granularity)))\n",
    "\n",
    "if end not in date_range: \n",
    "    date_range.append(end)\n",
    "\n",
    "date_isoformat = []\n",
    "for date in date_range:\n",
    "    date_isoformat.append(date.isoformat())\n",
    "\n",
    "urls = []\n",
    "for i in range(len(date_isoformat)-1):\n",
    "    url = f'https://api.exchange.coinbase.com/products/{product}/candles?start={date_isoformat[i]}&end={date_isoformat[i+1]}&granularity={granularity}'\n",
    "    urls.append(url)\n",
    "\n",
    "async def dataworker(semaphore: asyncio.Semaphore, request_url: str):\n",
    "    async with semaphore:\n",
    "        async with aiohttp.ClientSession() as session:\n",
    "            async with session.request(method = 'GET', url = request_url) as response:\n",
    "                data = await response.json()\n",
    "                data.reverse()\n",
    "                await asyncio.sleep(0.2)\n",
    "    return data\n",
    "\n",
    "async def main(urls):\n",
    "    limit = asyncio.Semaphore(10)\n",
    "\n",
    "    tasks = []\n",
    "    for url in urls:\n",
    "        tasks.append(dataworker(limit, url))\n",
    "\n",
    "    results = await asyncio.gather(*tasks)\n",
    "    return results\n",
    "\n",
    "asyncio.set_event_loop_policy(asyncio.WindowsSelectorEventLoopPolicy())\n",
    "loop = asyncio.get_event_loop()\n",
    "data = loop.run_until_complete(main(urls=urls))"
   ]
  },
  {
   "cell_type": "code",
   "execution_count": 16,
   "metadata": {},
   "outputs": [],
   "source": [
    "from datafuncs import process_cbpro_hist_data\n",
    "final_df = pd.DataFrame()\n",
    "dataframes = []\n",
    "for d in data: \n",
    "    if len(d) != 0: \n",
    "        df = process_cbpro_hist_data(d)\n",
    "        if not df.empty: \n",
    "            dataframes.append(df)\n",
    "\n",
    "all_historical_data = reduce(lambda x, y: pd.concat([x, y]), dataframes)\n",
    "all_historical_data.drop_duplicates(inplace=True)\n",
    "\n",
    "all_historical_data.sort_values(by = 'time', inplace=True)\n",
    "all_historical_data.reset_index(drop = True, inplace = True)\n",
    "all_historical_data['exchange'] = 'coinbase'\n",
    "all_historical_data['product'] = product\n",
    "\n",
    "connection.update_table_with_df(df = all_historical_data, table_name='coinbasepricingdata', if_exists='append', index = False)"
   ]
  }
 ],
 "metadata": {
  "kernelspec": {
   "display_name": "Python 3.9.12 ('coinbasepro')",
   "language": "python",
   "name": "python3"
  },
  "language_info": {
   "codemirror_mode": {
    "name": "ipython",
    "version": 3
   },
   "file_extension": ".py",
   "mimetype": "text/x-python",
   "name": "python",
   "nbconvert_exporter": "python",
   "pygments_lexer": "ipython3",
   "version": "3.9.12"
  },
  "orig_nbformat": 4,
  "vscode": {
   "interpreter": {
    "hash": "7c641d41f17ff5cc65f5c405b0db55409976dbf07b52e3c13467c01a57ff9150"
   }
  }
 },
 "nbformat": 4,
 "nbformat_minor": 2
}
